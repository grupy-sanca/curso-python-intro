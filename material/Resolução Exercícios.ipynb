{
 "cells": [
  {
   "cell_type": "markdown",
   "metadata": {},
   "source": [
    "### Exercícios\n",
    "\n",
    "1. Calcule o resto da divisão de 10 por 3.\n",
    "\n",
    "2. Resolva essa expressão numérica usando Python:\n",
    "\n",
    "    $\\frac{100 – 413 \\cdot (20 – 5 x 4) + 25}{5}$\n",
    "\n",
    "3. Você e os outros integrantes da sua república (Joca, Moacir, Demival e Jackson) foram no supermercado e compraram alguns itens:\n",
    "    - 75 latas de cerveja: R\\$ 2,20 cada (da ruim ainda, aka Itaipava, pra fazer o dinheiro render)\n",
    "    - 2 pacotes de macarrão: R\\$ 8,73 cada\n",
    "    - 1 pacote de Molho de tomate: R\\$ 3,45\n",
    "    - 420g Cebola: R\\$ 5,40/kg\n",
    "    - 250g de Alho: R\\$ 30/kg\n",
    "    - 450g de pães franceses: R\\$ 25/kg\n",
    "\n",
    "Calcule quanto ficou para cada um."
   ]
  },
  {
   "cell_type": "code",
   "execution_count": null,
   "metadata": {
    "collapsed": false
   },
   "outputs": [],
   "source": [
    "# Resolução Exercício 1\n",
    "\n",
    "10 // 3"
   ]
  },
  {
   "cell_type": "code",
   "execution_count": null,
   "metadata": {
    "collapsed": false
   },
   "outputs": [],
   "source": [
    "10 - 3 * 3"
   ]
  },
  {
   "cell_type": "code",
   "execution_count": null,
   "metadata": {
    "collapsed": false
   },
   "outputs": [],
   "source": [
    "# Resolução Exercício 2\n",
    "\n",
    "(100 - 413 * (20 - 5 * 4) + 25)/5"
   ]
  },
  {
   "cell_type": "code",
   "execution_count": null,
   "metadata": {
    "collapsed": false
   },
   "outputs": [],
   "source": [
    "# Resolução Exercício 3\n",
    "\n",
    "((75 * 2.2) + (2 * 8.73) + (3.45) + (0.420 * 5.4) + (0.25 * 30) + (0.45 * 25))/5"
   ]
  },
  {
   "cell_type": "markdown",
   "metadata": {},
   "source": [
    "### Exercícios\n",
    "\n",
    "1. Supondo que a cotação do dólar está R\\$ 3,25, faça uma atribuição com a variável dólar para este valor e, usando esta atribuição, monte uma equação para calcular o valor equivalente que teria com R\\$ 65,00."
   ]
  },
  {
   "cell_type": "code",
   "execution_count": null,
   "metadata": {
    "collapsed": false
   },
   "outputs": [],
   "source": [
    "# Resolução exercício\n",
    "\n",
    "dolar = 3.25\n",
    "real = 65 / dolar\n",
    "real"
   ]
  },
  {
   "cell_type": "markdown",
   "metadata": {},
   "source": [
    "### Exercícios\n",
    "\n",
    "1. Dada a frase \"Python é muito legal.\" use fatiamento para dar nome a variáveis contendo cada palavra. O resultado final deve ser:\n",
    "\n",
    "    ```python\n",
    "    >>> frase = \"Python é muito legal.\"\n",
    "    # resolução do problema aqui\n",
    "    >>> palavra1\n",
    "    \"Python\"\n",
    "    >>> palavra2\n",
    "    \"é\"\n",
    "    >>> palavra3\n",
    "    \"muito\"\n",
    "    >>> palavra4\n",
    "    \"legal\"\n",
    "    ```\n",
    "\n",
    "2. Qual o tamanho dessa frase? E qual o tamanho de cada palavra?"
   ]
  },
  {
   "cell_type": "code",
   "execution_count": null,
   "metadata": {
    "collapsed": false
   },
   "outputs": [],
   "source": [
    "# Exercício 1\n",
    "\n",
    "frase = \"Python é muito legal.\"\n",
    "\n",
    "palavra1 = frase[:6] # ou palavra1 = frase[0:6]\n",
    "palavra1"
   ]
  },
  {
   "cell_type": "code",
   "execution_count": null,
   "metadata": {
    "collapsed": false
   },
   "outputs": [],
   "source": [
    "frase.find('n')"
   ]
  },
  {
   "cell_type": "code",
   "execution_count": null,
   "metadata": {
    "collapsed": false
   },
   "outputs": [],
   "source": [
    "frase.find('é')"
   ]
  },
  {
   "cell_type": "code",
   "execution_count": null,
   "metadata": {
    "collapsed": false
   },
   "outputs": [],
   "source": [
    "palavra2 = frase[7]\n",
    "palavra2"
   ]
  },
  {
   "cell_type": "code",
   "execution_count": null,
   "metadata": {
    "collapsed": false
   },
   "outputs": [],
   "source": [
    "frase.find('m')"
   ]
  },
  {
   "cell_type": "code",
   "execution_count": null,
   "metadata": {
    "collapsed": false
   },
   "outputs": [],
   "source": [
    "frase.find('o ')"
   ]
  },
  {
   "cell_type": "code",
   "execution_count": null,
   "metadata": {
    "collapsed": false
   },
   "outputs": [],
   "source": [
    "palavra3 = frase[9:14]\n",
    "palavra3"
   ]
  },
  {
   "cell_type": "code",
   "execution_count": null,
   "metadata": {
    "collapsed": false
   },
   "outputs": [],
   "source": [
    "frase.find('l')"
   ]
  },
  {
   "cell_type": "code",
   "execution_count": null,
   "metadata": {
    "collapsed": false
   },
   "outputs": [],
   "source": [
    "palavra4 = frase[15:] # ou palavra4 = frase[15:21]\n",
    "palavra4"
   ]
  },
  {
   "cell_type": "code",
   "execution_count": null,
   "metadata": {
    "collapsed": false
   },
   "outputs": [],
   "source": [
    "# Exercício 2\n",
    "\n",
    "len(frase)"
   ]
  },
  {
   "cell_type": "code",
   "execution_count": null,
   "metadata": {
    "collapsed": false
   },
   "outputs": [],
   "source": [
    "len(palavra1)"
   ]
  },
  {
   "cell_type": "code",
   "execution_count": null,
   "metadata": {
    "collapsed": false
   },
   "outputs": [],
   "source": [
    "len(palavra2)"
   ]
  },
  {
   "cell_type": "code",
   "execution_count": null,
   "metadata": {
    "collapsed": false
   },
   "outputs": [],
   "source": [
    "len(palavra3)"
   ]
  },
  {
   "cell_type": "code",
   "execution_count": null,
   "metadata": {
    "collapsed": false
   },
   "outputs": [],
   "source": [
    "len(palavra4)"
   ]
  },
  {
   "cell_type": "markdown",
   "metadata": {},
   "source": [
    "### Exercícios\n",
    "\n",
    "1. (resolvido pelo professor) Use slicing (mais especificamente o passo do fatiamento) para inverter a string \"Python\".\n",
    "\n",
    "2. Agora que conhecemos atribuição múltipla e o método `str.split` refaça o exercício anterior usando essas ferramentas.\n",
    "\n",
    "    Dada a frase \"Python é muito legal.\" use fatiamento para dar nome a variáveis contendo cada palavra. O resultado final deve ser:\n",
    "\n",
    "    ```python\n",
    "         >>> frase = \"Python é muito legal.\"\n",
    "         # resolução do problema aqui\n",
    "         >>> palavra1\n",
    "         \"Python\"\n",
    "         >>> palavra2\n",
    "         \"é\"\n",
    "         >>> palavra3\n",
    "         \"muito\"\n",
    "         >>> palavra4\n",
    "         \"legal\"\n",
    "    ```"
   ]
  },
  {
   "cell_type": "code",
   "execution_count": null,
   "metadata": {
    "collapsed": false
   },
   "outputs": [],
   "source": [
    "# Exercício 1\n",
    "\n",
    "frase = \"Python\"\n",
    "frase[::-1]"
   ]
  },
  {
   "cell_type": "code",
   "execution_count": null,
   "metadata": {
    "collapsed": true
   },
   "outputs": [],
   "source": [
    "# Exercício 2\n",
    "frase = \"Python é muito legal\"\n",
    "\n",
    "palavra1, palavra2, palavra3, palavra4 = frase.split(\" \")"
   ]
  },
  {
   "cell_type": "code",
   "execution_count": null,
   "metadata": {
    "collapsed": false
   },
   "outputs": [],
   "source": [
    "palavra1"
   ]
  },
  {
   "cell_type": "code",
   "execution_count": null,
   "metadata": {
    "collapsed": false
   },
   "outputs": [],
   "source": [
    "palavra2"
   ]
  },
  {
   "cell_type": "code",
   "execution_count": null,
   "metadata": {
    "collapsed": false
   },
   "outputs": [],
   "source": [
    "palavra3"
   ]
  },
  {
   "cell_type": "code",
   "execution_count": null,
   "metadata": {
    "collapsed": false
   },
   "outputs": [],
   "source": [
    "palavra4"
   ]
  },
  {
   "cell_type": "markdown",
   "metadata": {},
   "source": [
    "# TARDE"
   ]
  },
  {
   "cell_type": "markdown",
   "metadata": {},
   "source": [
    "# Exercícios\n",
    "\n",
    "1. Escreva um programa que, dados 2 números diferentes (a e b), encontre o menor deles.\n",
    "\n",
    "2. Para doar sangue é necessário ter entre 18 e 67 anos. Faça um programa que pergunte a idade de uma pessoa e diga se ela pode doar sangue ou não.\n",
    "\n",
    "3. Considere uma equação do segundo grau f(x) = a \\* x² + b \\* x + c. A partir dos coeficientes, determine se a equação possui duas raízes reais, uma, ou se não possui. \n",
    "\n",
    " (Dica: delta = b² - 4 \\* a \\* c, se delta é maior que 0, possui duas raízes reais, se delta é 0, possui uma raiz, e caso delta seja menor que 0 não possui raiz real)\n",
    " \n",
    "4. Leia  dois  números  e  efetue  a  adição. Caso o valor somado seja maior que 20, este deverá ser apresentado somando-se a ele mais  8;  caso  o  valor  somado  seja  menor  ou  igual  a  20,  este  deverá  ser  apresentado subtraindo-se 5.\n",
    "\n",
    "5. Leia um número e imprima a raiz quadrada do número caso ele seja positivo ou igual a zero e o quadrado do número caso ele seja negativo.\n",
    "\n",
    "6. Leia  um  número  inteiro  entre  1  e  12  e escrever o mês correspondente. Caso o usuário digite um número fora desse intervalo, deverá aparecer uma mensagem informando que não existe mês com este número. \n",
    "\n",
    "\n",
    "Desafios:\n",
    "1. Escreva um programa que, dados 3 números diferentes (a, b e c), encontre o menor deles.\n",
    "2. Dado 3 valores inteiros lidos do teclado: **a**, **b** e **c**, retorne a soma deles. Porém, caso algum desses valores seja 13, então ele não conta para a soma, e os valores a sua direita também não.\n",
    "\n",
    " Por exemplo:\n",
    "\n",
    " 1, 2, 3 -> 6\n",
    "\n",
    " 1, 2, 13 -> 3\n",
    "\n",
    " 1, 13, 3 -> 1\n",
    "\n",
    " 13, 2, 3 -> 0"
   ]
  },
  {
   "cell_type": "code",
   "execution_count": null,
   "metadata": {
    "collapsed": false
   },
   "outputs": [],
   "source": [
    "# Resolução Exercício 1\n",
    "\n",
    "a = 10\n",
    "b = 20\n",
    "\n",
    "if a < b: \n",
    "    print(\"O valor de a é o menor\")\n",
    "else: \n",
    "    print(\"O valor de b é o menor\")        "
   ]
  },
  {
   "cell_type": "code",
   "execution_count": null,
   "metadata": {
    "collapsed": false
   },
   "outputs": [],
   "source": [
    "# Resolução Exercício 2\n",
    "\n",
    "idade = int(input(\"Digite a sua idade: \"))\n",
    "\n",
    "if idade <= 67 and idade >= 18:\n",
    "    print(\"Pela sua idade você pode doar sangue!\")\n",
    "else: \n",
    "    print(\"Pela sua idade você não pode doar sangue.\")"
   ]
  },
  {
   "cell_type": "code",
   "execution_count": null,
   "metadata": {
    "collapsed": false
   },
   "outputs": [],
   "source": [
    "# Resolução Exercício 3\n",
    "\n",
    "# para nenhuma raiz: a = 10, b = 10, c = 3\n",
    "# para duas raízes reais: a = 10, b = 20, c = 3\n",
    "# para apenas uma raíz: a = 2, b = 4, c = 2\n",
    "\n",
    "a = 10\n",
    "b = 10\n",
    "c = 3\n",
    "\n",
    "delta = b**2 - 4*a*c\n",
    "\n",
    "if delta == 0: \n",
    "    print(\"A equação possui uma raiz real\")\n",
    "elif delta > 0:\n",
    "    print(\"A equação possui duas raízes reais\")\n",
    "else:\n",
    "    print(\"A equação não possui raízes reais\")"
   ]
  },
  {
   "cell_type": "code",
   "execution_count": null,
   "metadata": {
    "collapsed": false
   },
   "outputs": [],
   "source": [
    "delta"
   ]
  },
  {
   "cell_type": "code",
   "execution_count": null,
   "metadata": {
    "collapsed": false
   },
   "outputs": [],
   "source": [
    "# Resolução Exercício 4\n",
    "\n",
    "a = int(input(\"Digite o primeiro número: \"))\n",
    "b = int(input(\"Digite o segundo número: \"))\n",
    "\n",
    "if a + b > 20:\n",
    "    print(a + b + 8)\n",
    "else: \n",
    "    print(a + b - 5)"
   ]
  },
  {
   "cell_type": "code",
   "execution_count": null,
   "metadata": {
    "collapsed": false
   },
   "outputs": [],
   "source": [
    "# Resolução Exercício 5\n",
    "\n",
    "numero = int(input(\"Digite um número: \"))\n",
    "\n",
    "from math import sqrt\n",
    "\n",
    "if numero < 0: \n",
    "    print(numero ** 2)\n",
    "else:\n",
    "    print(sqrt(numero))"
   ]
  },
  {
   "cell_type": "code",
   "execution_count": null,
   "metadata": {
    "collapsed": false
   },
   "outputs": [],
   "source": [
    "# Resolução Exercício 6\n",
    "\n",
    "mes = int(input(\"Digite um número entre 1 e 12: \"))\n",
    "\n",
    "if mes == 1:\n",
    "    print(\"Janeiro\")\n",
    "elif mes == 2:\n",
    "    print(\"Fevereiro\")\n",
    "elif mes == 3: \n",
    "    print(\"Março\")\n",
    "elif mes == 4:\n",
    "    print(\"Abril\")\n",
    "elif mes == 5:\n",
    "    print(\"Maio\")\n",
    "elif mes == 6:\n",
    "    print(\"Junho\")\n",
    "elif mes == 7:\n",
    "    print(\"Julho\")\n",
    "elif mes == 8:\n",
    "    print(\"Agosto\")\n",
    "elif mes == 9: \n",
    "    print(\"Setembro\")\n",
    "elif mes == 10:\n",
    "    print(\"Outubro\")\n",
    "elif mes == 11:\n",
    "    print(\"Novembro\")\n",
    "elif mes == 12: \n",
    "    print(\"Dezembro\")\n",
    "else:\n",
    "    print(\"Não existe mês com este número\")"
   ]
  },
  {
   "cell_type": "code",
   "execution_count": null,
   "metadata": {
    "collapsed": false
   },
   "outputs": [],
   "source": [
    "# Resolução Exercício 6 - Outra maneira\n",
    "\n",
    "meses = ['Janeiro', 'Fevereiro', 'Março', 'Abril', 'Maio', 'Junho', 'Julho', 'Agosto', 'Setembro', 'Outubro', 'Novembro', 'Dezembro']\n",
    "\n",
    "mes = int(input(\"Digite um número entre 1 e 12: \"))\n",
    "\n",
    "if mes >= 1 and mes <= 12:\n",
    "    print(meses[mes-1])\n",
    "else:\n",
    "    print(\"Não existe mês com este número\")"
   ]
  },
  {
   "cell_type": "code",
   "execution_count": null,
   "metadata": {
    "collapsed": false
   },
   "outputs": [],
   "source": [
    "# Resolução Exercício Desafio 1\n",
    "\n",
    "a = int(input(\"Digite o primeiro número: \"))\n",
    "b = int(input(\"Digite o segundo número: \"))\n",
    "c = int(input(\"Digite o terceiro número: \"))\n",
    "\n",
    "lista = [a, b, c]\n",
    "\n",
    "lista.sort()\n",
    "\n",
    "print(\"O menor valor é:\", lista[0])"
   ]
  },
  {
   "cell_type": "code",
   "execution_count": null,
   "metadata": {
    "collapsed": false
   },
   "outputs": [],
   "source": [
    "# Resolução Exercício Desafio 2\n",
    "\n",
    "a = int(input(\"Digite o valor de a: \"))\n",
    "b = int(input(\"Digite o valor de b: \"))\n",
    "c = int(input(\"Digite o valor de c: \"))\n",
    "\n",
    "if a != 13 and b != 13 and c != 13:\n",
    "    print(a + b + c)\n",
    "elif a == 13:\n",
    "    print(0)\n",
    "elif b == 13:\n",
    "    print(a)\n",
    "elif c == 13:\n",
    "    print(a + b)"
   ]
  },
  {
   "cell_type": "markdown",
   "metadata": {},
   "source": [
    "# Exercícios\n",
    "\n",
    "1. Ler do teclado uma lista com 5 inteiros e imprimir o menor valor\n",
    "2. Ler do teclado uma lista com 5 inteiros e imprimir True se a lista estiver ordenada de forma crescente ou False caso contrário.\n",
    "3. Exiba em ordem decrescente todos os números de 50 até 10;\n",
    "4. Ler do teclado 3 números e imprima a quantidade de números entre 10 e 50 (incluindo 10 e 50)\n",
    "5. Ler do teclado a idade e o sexo de 5 pessoas, calcule e imprima:\n",
    "\n",
    " a) idade média das mulheres\n",
    " \n",
    " b) idade média dos homens\n",
    " \n",
    " c) idade média do grupo\n",
    " \n",
    "6. Calcule o somatório dos números de 1 a 100 e imprima o resultado."
   ]
  },
  {
   "cell_type": "code",
   "execution_count": null,
   "metadata": {
    "collapsed": false
   },
   "outputs": [],
   "source": [
    "# Resolução Exercício 1\n",
    "\n",
    "n1 = int(input(\"Digite o primeiro número: \"))\n",
    "n2 = int(input(\"Digite o segundo número: \"))\n",
    "n3 = int(input(\"Digite o terceiro número: \"))\n",
    "n4 = int(input(\"Digite o quarto número: \"))\n",
    "n5 = int(input(\"Digite o quinto número: \"))\n",
    "\n",
    "lista = [n1, n2, n3, n4, n5]\n",
    "\n",
    "lista.sort()\n",
    "print(\"O menor valor é:\",lista[0])"
   ]
  },
  {
   "cell_type": "code",
   "execution_count": null,
   "metadata": {
    "collapsed": false
   },
   "outputs": [],
   "source": [
    "# Resolução Exercício 2\n",
    "\n",
    "n1 = int(input(\"Digite o primeiro número: \"))\n",
    "n2 = int(input(\"Digite o segundo número: \"))\n",
    "n3 = int(input(\"Digite o terceiro número: \"))\n",
    "n4 = int(input(\"Digite o quarto número: \"))\n",
    "n5 = int(input(\"Digite o quinto número: \"))\n",
    "\n",
    "lista = [n1, n2, n3, n4, n5]\n",
    "\n",
    "flag = True\n",
    "\n",
    "for i in range(len(lista) - 1):\n",
    "    if lista[i] > lista[i+1]:\n",
    "        flag = False\n",
    "\n",
    "print(flag)"
   ]
  },
  {
   "cell_type": "code",
   "execution_count": null,
   "metadata": {
    "collapsed": false
   },
   "outputs": [],
   "source": [
    "# Resolução Exercício 3\n",
    "lista = []\n",
    "\n",
    "for i in range(10,51):\n",
    "    lista.append(i)\n",
    "\n",
    "lista.reverse()\n",
    "\n",
    "print(lista)"
   ]
  },
  {
   "cell_type": "code",
   "execution_count": null,
   "metadata": {
    "collapsed": false
   },
   "outputs": [],
   "source": [
    "# Resolução Exercício 4\n",
    "\n",
    "n1 = int(input(\"Digite o primeiro número: \"))\n",
    "n2 = int(input(\"Digite o segundo número: \"))\n",
    "n3 = int(input(\"Digite o terceiro número: \"))\n",
    "\n",
    "lista = [n1, n2, n3]\n",
    "\n",
    "quantidade = 0\n",
    "\n",
    "for i in lista:\n",
    "    if i >= 10 and i <= 50:\n",
    "        quantidade += 1\n",
    "\n",
    "print(quantidade)"
   ]
  },
  {
   "cell_type": "code",
   "execution_count": null,
   "metadata": {
    "collapsed": false
   },
   "outputs": [],
   "source": [
    "# Resolução Exercício 5\n",
    "\n",
    "count = 0\n",
    "qtd_mulheres = 0\n",
    "qtd_homens = 0\n",
    "soma_idade_mulheres = 0\n",
    "soma_idade_homens = 0\n",
    "\n",
    "while count < 5:\n",
    "    entrada = int(input(\"Informe seu gênero: 1 para F, 2 para M: \"))\n",
    "    idade = int(input(\"Informe sua idade: \"))\n",
    "    if entrada == 1:\n",
    "        qtd_mulheres += 1\n",
    "        soma_idade_mulheres += idade\n",
    "    else:\n",
    "        qtd_homens += 1\n",
    "        soma_idade_homens += idade   \n",
    "    count += 1\n",
    "        \n",
    "print(\"A idade média das mulheres:\", soma_idade_mulheres/qtd_mulheres)\n",
    "print(\"A idade média dos homens:\", soma_idade_homens/qtd_homens)\n",
    "print(\"A idade média do grupo:\", (soma_idade_mulheres + soma_idade_homens)/(qtd_mulheres + qtd_homens))"
   ]
  },
  {
   "cell_type": "code",
   "execution_count": null,
   "metadata": {
    "collapsed": false
   },
   "outputs": [],
   "source": [
    "# Resolução Exercício 6\n",
    "\n",
    "soma = 0\n",
    "\n",
    "for i in range(101):\n",
    "    soma += i\n",
    "\n",
    "soma"
   ]
  },
  {
   "cell_type": "markdown",
   "metadata": {},
   "source": [
    "# Exercícios \n",
    "\n",
    "1. Faça uma função que calcule a área de um círculo. Insira o raio como argumento.\n",
    "\n",
    " **dica**: faça a importação de math e use PI de lá.\n",
    "\n",
    "2. Crie uma função que receba um valor de temperatura em <i>Fahrenheit</i> e transforme em <i>Celsius</i>.\n",
    "\n",
    " Relembrar é viver: \n",
    "\n",
    " $\\frac{C}{5} = \\frac{F - 32}{9}$\n",
    "\n",
    "3. Faça uma função que determina se um número é par ou ímpar.\n",
    "\n",
    " Use o % para determinar o resto de uma divisão. \n",
    " \n",
    " Por exemplo: 3 % 2 = 1 e 4 % 2 = 0\n",
    "\n",
    "4. Crie uma função que receba 3 valores e calcula as raízes da fórmula de Bháskara.\n",
    "\n",
    " **dica**: raiz quadrada é sqrt(), importando math: math.sqrt()\n",
    "\n",
    " Faça um teste com bhaskara(1, -4, -5) e o programa deve obter as raízes: (5.0, -1.0)\n",
    " \n",
    "5. Dada a função: y = 5x + 2, determine os valores de y para x entre -10 a +10, onde x é inteiro\n",
    "6. Escreva uma função chamada has_duplicates que tome uma lista e retorne True se houver algum elemento que apareça mais de uma vez. Ela não deve modificar a lista original.\n",
    "7. Uma palavra é chamada de \"palíndromo\" se a palavra ao contrário é a mesma que a palavra original. Escreva uma função que determina se é palíndromo e, se for, retorne True. Senão, retorne False.\n",
    "8. Escreva uma função que imprime todos os números primos entre 1 e 50\n",
    " \n",
    " **dica**: um número é primo se ele for divisível apenas por 1 e ele mesmo, use o operador % (resto da divisão) para isso.\n",
    " \n",
    "9. Duas palavras são anagramas se você puder soletrar uma rearranjando as letras da outra. Escreva uma função chamada is_anagram que tome duas strings e retorne True se forem anagramas ou False caso contrário.\n",
    "10. Escreva uma função que dado um número, calcule o fatorial desse número.\n",
    " \n",
    " Por exemplo, fatorial de 5 = 5\\*4\\*3\\*2\\*1 = 120\n",
    " \n",
    " Obs: fatorial de 0 é 1, fatorial de 1 também é 1.\n",
    " \n",
    "11. Crie uma função que aproxima a função matemática seno, utilizando a seguinte equação:\n",
    "\n",
    " $\\sum_{n=0}^{\\infty} \\frac{(-1)^n}{2n+1!} \\cdot x^{2n+1}$"
   ]
  },
  {
   "cell_type": "code",
   "execution_count": null,
   "metadata": {
    "collapsed": true
   },
   "outputs": [],
   "source": [
    "# Resolução Exercício 1\n",
    "from math import pi\n",
    "\n",
    "def area(r):\n",
    "    return pi * r ** 2"
   ]
  },
  {
   "cell_type": "code",
   "execution_count": null,
   "metadata": {
    "collapsed": false
   },
   "outputs": [],
   "source": [
    "area(10)"
   ]
  },
  {
   "cell_type": "code",
   "execution_count": null,
   "metadata": {
    "collapsed": true
   },
   "outputs": [],
   "source": [
    "# Resolução Exercício 2\n",
    "def temp(f):\n",
    "    return (f - 32) * 5 / 9"
   ]
  },
  {
   "cell_type": "code",
   "execution_count": null,
   "metadata": {
    "collapsed": false
   },
   "outputs": [],
   "source": [
    "temp(50)"
   ]
  },
  {
   "cell_type": "code",
   "execution_count": null,
   "metadata": {
    "collapsed": true
   },
   "outputs": [],
   "source": [
    "# Resolução Exercício 3\n",
    "\n",
    "def par_ou_impar(n):\n",
    "    if n % 2 == 0:\n",
    "        return(print(\"É par\"))\n",
    "    else:\n",
    "        return(print(\"É ímpar\"))"
   ]
  },
  {
   "cell_type": "code",
   "execution_count": null,
   "metadata": {
    "collapsed": false
   },
   "outputs": [],
   "source": [
    "par_ou_impar(23)"
   ]
  },
  {
   "cell_type": "code",
   "execution_count": null,
   "metadata": {
    "collapsed": true
   },
   "outputs": [],
   "source": [
    "# Resolução Exercício 4\n",
    "\n",
    "def bhaskara(a, b, c):\n",
    "    \n",
    "    from math import sqrt\n",
    "    \n",
    "    delta = b**2 - 4*a*c\n",
    "\n",
    "    if delta < 0: \n",
    "        print(\"A equação não possui raízes reais\")\n",
    "    elif delta == 0:\n",
    "        raiz = -b / (2 * a)\n",
    "        print(\"A raiz da equação:\", raiz)\n",
    "    else:\n",
    "        raiz1 = (-b + sqrt(delta))/ (2 * a)\n",
    "        raiz2 = (-b - sqrt(delta))/ (2 * a)\n",
    "        print(\"As raízes da equação:\", raiz1, raiz2)"
   ]
  },
  {
   "cell_type": "code",
   "execution_count": null,
   "metadata": {
    "collapsed": true
   },
   "outputs": [],
   "source": [
    "bhaskara(1, -4, -5)"
   ]
  },
  {
   "cell_type": "code",
   "execution_count": null,
   "metadata": {
    "collapsed": true
   },
   "outputs": [],
   "source": [
    "bhaskara(10, 10, 3)"
   ]
  },
  {
   "cell_type": "code",
   "execution_count": null,
   "metadata": {
    "collapsed": true
   },
   "outputs": [],
   "source": [
    "bhaskara(2, 4, 2)"
   ]
  },
  {
   "cell_type": "code",
   "execution_count": null,
   "metadata": {
    "collapsed": true
   },
   "outputs": [],
   "source": [
    "# Resolução Exercício 5\n",
    "\n",
    "def verifica_x():\n",
    "    \n",
    "    for i in range(-10, 11):\n",
    "        print(5 * i + 2)"
   ]
  },
  {
   "cell_type": "code",
   "execution_count": null,
   "metadata": {
    "collapsed": true
   },
   "outputs": [],
   "source": [
    "verifica_x()"
   ]
  },
  {
   "cell_type": "code",
   "execution_count": null,
   "metadata": {
    "collapsed": true
   },
   "outputs": [],
   "source": [
    "# Resolução Exercício 6\n",
    "\n",
    "def has_duplicates(lista):\n",
    "\n",
    "    lista2 = []\n",
    "\n",
    "    # removendo duplicados\n",
    "    for x in lista:\n",
    "        if x not in lista2:\n",
    "            lista2.append(x)\n",
    "\n",
    "    # comparando os tamanhos\n",
    "    if len(lista) != len(lista2):\n",
    "        return True\n",
    "    else:\n",
    "        return False"
   ]
  },
  {
   "cell_type": "code",
   "execution_count": null,
   "metadata": {
    "collapsed": true
   },
   "outputs": [],
   "source": [
    "lista = [1, 2, 3, 4, 6, 2, 8, 10 ,9]\n",
    "\n",
    "has_duplicates(lista)"
   ]
  },
  {
   "cell_type": "code",
   "execution_count": null,
   "metadata": {
    "collapsed": true
   },
   "outputs": [],
   "source": [
    "lista = [12, 7, 8, 5, 3, 6, 11]\n",
    "\n",
    "has_duplicates(lista)# Resolução Exercício 7\n",
    "\n",
    "def palíndromo(p1):\n",
    "    \n",
    "    p2 = p1[::-1]\n",
    "    \n",
    "    if p1 == p2:\n",
    "        return True\n",
    "    else:\n",
    "        return False"
   ]
  },
  {
   "cell_type": "code",
   "execution_count": null,
   "metadata": {
    "collapsed": true
   },
   "outputs": [],
   "source": [
    "# Exemplos: anilina, arara, asa, mirim, mussum, osso, ovo, radar, ralar, reler, reter, rever, reviver, rir, rodador\n",
    "palíndromo('anilina')"
   ]
  },
  {
   "cell_type": "code",
   "execution_count": null,
   "metadata": {
    "collapsed": true
   },
   "outputs": [],
   "source": [
    "palíndromo('café')"
   ]
  },
  {
   "cell_type": "code",
   "execution_count": null,
   "metadata": {
    "collapsed": true
   },
   "outputs": [],
   "source": [
    "# Resolução Exercício 8\n",
    "def eh_primo(x):\n",
    "    \n",
    "    contador = 0\n",
    "    \n",
    "    for i in range(1, x):\n",
    "        if x % i == 0:\n",
    "            contador += 1\n",
    "    \n",
    "    if contador == 1:\n",
    "        return True\n",
    "    else:\n",
    "        return False\n",
    "    \n",
    "def imprime_primo():\n",
    "\n",
    "    for i in range(51):\n",
    "        if eh_primo(i) == True:\n",
    "            print(i)"
   ]
  },
  {
   "cell_type": "code",
   "execution_count": null,
   "metadata": {
    "collapsed": true
   },
   "outputs": [],
   "source": [
    "eh_primo(13)"
   ]
  },
  {
   "cell_type": "code",
   "execution_count": null,
   "metadata": {
    "collapsed": true
   },
   "outputs": [],
   "source": [
    "imprime_primo()"
   ]
  },
  {
   "cell_type": "code",
   "execution_count": null,
   "metadata": {
    "collapsed": true
   },
   "outputs": [],
   "source": [
    "# Resolução Exercício 9\n",
    "\n",
    "def is_anagram(s1, s2):\n",
    "    \n",
    "    list1 = list(s1.lower())\n",
    "    list2 = list(s2.lower())\n",
    "    \n",
    "    if len(s1) != len(s2):\n",
    "        return False\n",
    "    else:\n",
    "        if list1.sort() == list2.sort():\n",
    "            return True\n",
    "        else:\n",
    "            return False"
   ]
  },
  {
   "cell_type": "code",
   "execution_count": null,
   "metadata": {
    "collapsed": true
   },
   "outputs": [],
   "source": [
    "is_anagram('kingsleadhat', 'talkingheads')"
   ]
  },
  {
   "cell_type": "code",
   "execution_count": null,
   "metadata": {
    "collapsed": true
   },
   "outputs": [],
   "source": [
    "# Resolução Exercício 9 (outra maneira)\n",
    "\n",
    "def is_anagram2(s1, s2):\n",
    "    \n",
    "    return sorted(s1) == sorted(s2)"
   ]
  },
  {
   "cell_type": "code",
   "execution_count": null,
   "metadata": {
    "collapsed": true
   },
   "outputs": [],
   "source": [
    "is_anagram2('casa', 'asac')"
   ]
  },
  {
   "cell_type": "code",
   "execution_count": null,
   "metadata": {
    "collapsed": true
   },
   "outputs": [],
   "source": [
    "is_anagram2('avua', 'lala')"
   ]
  },
  {
   "cell_type": "code",
   "execution_count": null,
   "metadata": {
    "collapsed": true
   },
   "outputs": [],
   "source": [
    "# Resolução Exercício 9 (outra maneira)\n",
    "\n",
    "from collections import Counter\n",
    "\n",
    "def is_anagram3(str1, str2):\n",
    "   return Counter(str1) == Counter(str2)"
   ]
  },
  {
   "cell_type": "code",
   "execution_count": null,
   "metadata": {
    "collapsed": true
   },
   "outputs": [],
   "source": [
    "is_anagram3('casa', 'asac')"
   ]
  },
  {
   "cell_type": "code",
   "execution_count": null,
   "metadata": {
    "collapsed": true
   },
   "outputs": [],
   "source": [
    "is_anagram3('avua', 'lala')"
   ]
  },
  {
   "cell_type": "code",
   "execution_count": null,
   "metadata": {
    "collapsed": true
   },
   "outputs": [],
   "source": [
    "# Resolução Exercício 10\n",
    "\n",
    "def fatorial(x):\n",
    "    \n",
    "    if x < 1:\n",
    "       return 1\n",
    "    else:\n",
    "       return x * fatorial(x - 1)"
   ]
  },
  {
   "cell_type": "code",
   "execution_count": null,
   "metadata": {
    "collapsed": true
   },
   "outputs": [],
   "source": [
    "fatorial(5)"
   ]
  },
  {
   "cell_type": "code",
   "execution_count": null,
   "metadata": {
    "collapsed": true
   },
   "outputs": [],
   "source": [
    "fatorial(3)"
   ]
  },
  {
   "cell_type": "code",
   "execution_count": null,
   "metadata": {
    "collapsed": true
   },
   "outputs": [],
   "source": [
    "# Resolução Exercício 10 - para números muito grandes!\n",
    "\n",
    "def fatorial(x):\n",
    "    \n",
    "    from decimal import Decimal\n",
    "    \n",
    "    if x < 1:\n",
    "       return 1\n",
    "    else:\n",
    "       return float(Decimal(x * fatorial(x - 1)))"
   ]
  },
  {
   "cell_type": "code",
   "execution_count": null,
   "metadata": {
    "collapsed": true
   },
   "outputs": [],
   "source": [
    "fatorial(100)"
   ]
  },
  {
   "cell_type": "code",
   "execution_count": null,
   "metadata": {
    "collapsed": true
   },
   "outputs": [],
   "source": [
    "fatorial(5)"
   ]
  },
  {
   "cell_type": "code",
   "execution_count": null,
   "metadata": {
    "collapsed": true
   },
   "outputs": [],
   "source": [
    "# Resolução Exercício 11\n",
    "\n",
    "def aproxima_seno(x, n):\n",
    "    \n",
    "    soma = 0\n",
    "    \n",
    "    for i in range(n+1):\n",
    "        soma += (((-1) ** i) * (x ** (2 * i + 1))) / (fatorial(2 * i + 1))\n",
    "\n",
    "    return soma"
   ]
  },
  {
   "cell_type": "code",
   "execution_count": null,
   "metadata": {
    "collapsed": true
   },
   "outputs": [],
   "source": [
    "from math import pi\n",
    "\n",
    "aproxima_seno(pi/2, 100)"
   ]
  },
  {
   "cell_type": "code",
   "execution_count": null,
   "metadata": {
    "collapsed": true
   },
   "outputs": [],
   "source": [
    "aproxima_seno(0, 100)"
   ]
  },
  {
   "cell_type": "code",
   "execution_count": null,
   "metadata": {
    "collapsed": true
   },
   "outputs": [],
   "source": [
    "aproxima_seno(pi/6, 100)"
   ]
  }
 ],
 "metadata": {
  "kernelspec": {
   "display_name": "Python 3",
   "language": "python",
   "name": "python3"
  },
  "language_info": {
   "codemirror_mode": {
    "name": "ipython",
    "version": 3
   },
   "file_extension": ".py",
   "mimetype": "text/x-python",
   "name": "python",
   "nbconvert_exporter": "python",
   "pygments_lexer": "ipython3",
   "version": "3.5.2"
  }
 },
 "nbformat": 4,
 "nbformat_minor": 2
}
